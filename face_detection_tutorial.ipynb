{
 "cells": [
  {
   "cell_type": "markdown",
   "metadata": {},
   "source": [
    "### Introduction\n",
    "In this quick tutorial we are going to show how to use google-vision-wrapper to perform face detection on images. Please refer to the [Official Github Page](https://github.com/gcgrossi/google-vision-wrapper) for more information.\n",
    "\n",
    "For the purpose, we are going to use this image: \n",
    "\n",
    "***\n",
    "\n",
    "<img src=\"images/frodo.png\" width=\"30%\">\n",
    "\n",
    "***\n",
    "\n",
    "of Frodo, just a second before the Ring of Power will subtly slip on his finger."
   ]
  },
  {
   "cell_type": "markdown",
   "metadata": {},
   "source": [
    "### Before you begin\n",
    "Before starting, it is mandatory to correctly setup a Google Cloud Project, authorise the Google Vision API and generate a .json API key file. Be sure to have fulfilled all the steps in the [Before you Begin Guide](https://cloud.google.com/vision/docs/before-you-begin) before moving on."
   ]
  },
  {
   "cell_type": "markdown",
   "metadata": {},
   "source": [
    "### Imports"
   ]
  },
  {
   "cell_type": "code",
   "execution_count": 4,
   "metadata": {},
   "outputs": [],
   "source": [
    "# the main class\n",
    "from gvision import GVisionAPI\n",
    "\n",
    "#other imports\n",
    "import os\n",
    "import cv2\n",
    "import numpy as np\n",
    "import matplotlib.pyplot as plt"
   ]
  },
  {
   "cell_type": "markdown",
   "metadata": {},
   "source": [
    "### Initialize the class\n",
    "```authfile``` is the path to your API key file in .json format."
   ]
  },
  {
   "cell_type": "code",
   "execution_count": 5,
   "metadata": {},
   "outputs": [],
   "source": [
    "# path to auth key file\n",
    "authfile = os.path.join(os.getcwd(),'gvision_auth.json')\n",
    "gvision = GVisionAPI(authfile)"
   ]
  },
  {
   "cell_type": "markdown",
   "metadata": {},
   "source": [
    "### Read the input image and perform a request\n",
    "You can read the input image in the way you prefer, the class accepts 2 formats:\n",
    "1. numpy.ndarray\n",
    "2. bytes\n",
    "\n",
    "The Google Vision API accepts images in bytes format. If you chose to go on with numpy array the wrapper will perform the conversion. I always chose to read the image using OpenCV."
   ]
  },
  {
   "cell_type": "code",
   "execution_count": 6,
   "metadata": {},
   "outputs": [],
   "source": [
    "#read the image from disk\n",
    "img = cv2.imread(os.path.join(os.getcwd(),'images','frodo.png'))"
   ]
  },
  {
   "cell_type": "markdown",
   "metadata": {},
   "source": [
    "The method we are goin to use is: ```.perform_request(img,option)```. It accepts 2 parameters:\n",
    "1. the image already loaded\n",
    "2. an option that specifies what kind of request to make\n",
    "\n",
    "You can access the possibile options in this two ways:"
   ]
  },
  {
   "cell_type": "code",
   "execution_count": 11,
   "metadata": {},
   "outputs": [
    {
     "name": "stdout",
     "output_type": "stream",
     "text": [
      "Possible Request Options: \n",
      "* face detection\n",
      "* landmark detection\n",
      "* logo detection\n",
      "* object detection\n",
      "* label detection\n",
      "* image properties\n",
      "* text detection\n",
      "\n",
      "Possible Options:\n",
      "['face detection', 'landmark detection', 'logo detection', 'object detection', 'label detection', 'image properties', 'text detection']\n"
     ]
    }
   ],
   "source": [
    "# method to print request options\n",
    "gvision.request_options()\n",
    "\n",
    "#request options from the class attribute\n",
    "print('\\nPossible Options:')\n",
    "print(gvision.request_types)"
   ]
  },
  {
   "cell_type": "markdown",
   "metadata": {},
   "source": [
    "We are ready to perform the actual request. The body of the response from the API can be accessed using the  ```.response``` attribute."
   ]
  },
  {
   "cell_type": "code",
   "execution_count": null,
   "metadata": {},
   "outputs": [],
   "source": [
    "#perform a request to the API\n",
    "gvision.perform_request(img,'face detection')\n",
    "\n",
    "# print the response\n",
    "print(gvision.response)"
   ]
  },
  {
   "cell_type": "markdown",
   "metadata": {},
   "source": [
    "And it is quite verbose. "
   ]
  },
  {
   "cell_type": "markdown",
   "metadata": {},
   "source": [
    "### Obtaining the information as list\n",
    "The information regarding the face detection can be accessed using different methods. In the following we are going to obtain the face and head bounding box and landmarks points in form of lists, with the correponding headers."
   ]
  },
  {
   "cell_type": "code",
   "execution_count": 13,
   "metadata": {},
   "outputs": [
    {
     "name": "stdout",
     "output_type": "stream",
     "text": [
      "['face1', 'face2', 'face3', 'face4']\n",
      "[[(573, 314), (1031, 314), (1031, 764), (573, 764)]]\n",
      "['head1', 'head2', 'head3', 'head4']\n",
      "[[(526, 175), (1078, 175), (1078, 818), (526, 818)]]\n",
      "['1', '2', '3', '4', '5', '6', '7', '8', '9', '10', '11', '12', '13', '14', '15', '16', '17', '18', '19', '20', '21', '22', '23', '24', '25', '26', '27', '28', '31', '32', '33', '34', '35', '36']\n",
      "[[(711.7129516601562, 494.0753173828125), (881.945556640625, 496.9984130859375), (657.7088623046875, 454.04876708984375), (751.9884643554688, 450.1510925292969), (838.1832885742188, 448.7408447265625), (935.7223510742188, 456.4249572753906), (793.9056396484375, 484.17279052734375), (788.758544921875, 589.001708984375), (794.0109252929688, 651.6461791992188), (793.0731811523438, 703.9297485351562), (731.4522094726562, 667.5446166992188), (858.6494140625, 672.2739868164062), (795.5062255859375, 674.6854858398438), (843.29638671875, 606.9810180664062), (756.490966796875, 597.9932250976562), (795.6024169921875, 614.9024047851562), (710.734619140625, 476.75994873046875), (746.5731201171875, 498.69281005859375), (710.41015625, 509.33319091796875), (675.2196044921875, 495.919677734375), (885.2881469726562, 480.556640625), (914.1814575195312, 500.2012634277344), (884.1761474609375, 510.5671691894531), (852.7847900390625, 500.1502685546875), (705.096435546875, 437.93377685546875), (887.2174072265625, 437.7728271484375), (621.1411743164062, 527.2894897460938), (987.5260620117188, 544.8671875), (792.5225830078125, 445.4039306640625), (801.09765625, 774.556640625), (663.28369140625, 679.8106689453125), (947.96484375, 700.3831176757812), (680.7007446289062, 605.7356567382812), (910.029541015625, 610.579833984375)]]\n"
     ]
    }
   ],
   "source": [
    "# obtaining face points\n",
    "face_headers,face_pts = gvision.face()\n",
    "print(face_headers)\n",
    "print(face_pts)\n",
    "\n",
    "# obtaining head points\n",
    "head_headers,head_pts = gvision.head()\n",
    "print(head_headers)\n",
    "print(head_pts)\n",
    "\n",
    "# obtaining landmarks points\n",
    "land_headers,land_pts = gvision.face_landmarks()\n",
    "print(land_headers)\n",
    "print(land_pts)"
   ]
  },
  {
   "cell_type": "markdown",
   "metadata": {},
   "source": [
    "Remember: for each face detected (there could be more than 1) a list of points is detected. I.e. the first face point are ```face_pts[0]```."
   ]
  },
  {
   "cell_type": "markdown",
   "metadata": {},
   "source": [
    "### Obtaining the information as pandas DataFrame\n",
    "the same information can also de retrieved as a pandas DataFrame for convenience, using the method ```.to_df(option,name)```. It accepts 2 parameters:\n",
    "1. an option, specifying the type of information to dump\n",
    "2. the optional name or id of the image, that will be appended to each row of the DataFrame. Default is set to ```'image'```.\n",
    "\n",
    "You can access the possible options in the two following ways:"
   ]
  },
  {
   "cell_type": "code",
   "execution_count": 14,
   "metadata": {},
   "outputs": [
    {
     "name": "stdout",
     "output_type": "stream",
     "text": [
      "Possible DataFrame Options: \n",
      "* face landmarks\n",
      "* face\n",
      "* head\n",
      "* angles\n",
      "* objects\n",
      "* landmarks\n",
      "* logos\n",
      "* labels\n",
      "* colors\n",
      "* crop hints\n",
      "* texts\n",
      "* pages\n",
      "* blocks\n",
      "* paragraphs\n",
      "* words\n",
      "* symbols\n",
      "\n",
      "Possible Options:\n",
      "['face landmarks', 'face', 'head', 'angles', 'objects', 'landmarks', 'logos', 'labels', 'colors', 'crop hints', 'texts', 'pages', 'blocks', 'paragraphs', 'words', 'symbols']\n"
     ]
    }
   ],
   "source": [
    "# method to print df options\n",
    "gvision.df_options()\n",
    "\n",
    "#request options from the class attribute\n",
    "print('\\nPossible Options:')\n",
    "print(gvision.df_types)"
   ]
  },
  {
   "cell_type": "markdown",
   "metadata": {},
   "source": [
    "Let's obtain the information."
   ]
  },
  {
   "cell_type": "code",
   "execution_count": 16,
   "metadata": {},
   "outputs": [
    {
     "data": {
      "text/html": [
       "<div>\n",
       "<style scoped>\n",
       "    .dataframe tbody tr th:only-of-type {\n",
       "        vertical-align: middle;\n",
       "    }\n",
       "\n",
       "    .dataframe tbody tr th {\n",
       "        vertical-align: top;\n",
       "    }\n",
       "\n",
       "    .dataframe thead th {\n",
       "        text-align: right;\n",
       "    }\n",
       "</style>\n",
       "<table border=\"1\" class=\"dataframe\">\n",
       "  <thead>\n",
       "    <tr style=\"text-align: right;\">\n",
       "      <th></th>\n",
       "      <th>IMAGE_NAME</th>\n",
       "      <th>face1</th>\n",
       "      <th>face2</th>\n",
       "      <th>face3</th>\n",
       "      <th>face4</th>\n",
       "    </tr>\n",
       "  </thead>\n",
       "  <tbody>\n",
       "    <tr>\n",
       "      <th>0</th>\n",
       "      <td>poor_frodo</td>\n",
       "      <td>(573, 314)</td>\n",
       "      <td>(1031, 314)</td>\n",
       "      <td>(1031, 764)</td>\n",
       "      <td>(573, 764)</td>\n",
       "    </tr>\n",
       "  </tbody>\n",
       "</table>\n",
       "</div>"
      ],
      "text/plain": [
       "   IMAGE_NAME       face1        face2        face3       face4\n",
       "0  poor_frodo  (573, 314)  (1031, 314)  (1031, 764)  (573, 764)"
      ]
     },
     "execution_count": 16,
     "metadata": {},
     "output_type": "execute_result"
    }
   ],
   "source": [
    "# obtain the information as a pandas DataFrame\n",
    "df_face  =gvision.to_df('face','poor_frodo')\n",
    "df_face"
   ]
  },
  {
   "cell_type": "code",
   "execution_count": 17,
   "metadata": {},
   "outputs": [
    {
     "data": {
      "text/html": [
       "<div>\n",
       "<style scoped>\n",
       "    .dataframe tbody tr th:only-of-type {\n",
       "        vertical-align: middle;\n",
       "    }\n",
       "\n",
       "    .dataframe tbody tr th {\n",
       "        vertical-align: top;\n",
       "    }\n",
       "\n",
       "    .dataframe thead th {\n",
       "        text-align: right;\n",
       "    }\n",
       "</style>\n",
       "<table border=\"1\" class=\"dataframe\">\n",
       "  <thead>\n",
       "    <tr style=\"text-align: right;\">\n",
       "      <th></th>\n",
       "      <th>IMAGE_NAME</th>\n",
       "      <th>head1</th>\n",
       "      <th>head2</th>\n",
       "      <th>head3</th>\n",
       "      <th>head4</th>\n",
       "    </tr>\n",
       "  </thead>\n",
       "  <tbody>\n",
       "    <tr>\n",
       "      <th>0</th>\n",
       "      <td>poor_frodo</td>\n",
       "      <td>(526, 175)</td>\n",
       "      <td>(1078, 175)</td>\n",
       "      <td>(1078, 818)</td>\n",
       "      <td>(526, 818)</td>\n",
       "    </tr>\n",
       "  </tbody>\n",
       "</table>\n",
       "</div>"
      ],
      "text/plain": [
       "   IMAGE_NAME       head1        head2        head3       head4\n",
       "0  poor_frodo  (526, 175)  (1078, 175)  (1078, 818)  (526, 818)"
      ]
     },
     "execution_count": 17,
     "metadata": {},
     "output_type": "execute_result"
    }
   ],
   "source": [
    "# obtain the information as a pandas DataFrame\n",
    "df_head  =gvision.to_df('head','poor_frodo')\n",
    "df_head"
   ]
  },
  {
   "cell_type": "code",
   "execution_count": 18,
   "metadata": {},
   "outputs": [
    {
     "data": {
      "text/html": [
       "<div>\n",
       "<style scoped>\n",
       "    .dataframe tbody tr th:only-of-type {\n",
       "        vertical-align: middle;\n",
       "    }\n",
       "\n",
       "    .dataframe tbody tr th {\n",
       "        vertical-align: top;\n",
       "    }\n",
       "\n",
       "    .dataframe thead th {\n",
       "        text-align: right;\n",
       "    }\n",
       "</style>\n",
       "<table border=\"1\" class=\"dataframe\">\n",
       "  <thead>\n",
       "    <tr style=\"text-align: right;\">\n",
       "      <th></th>\n",
       "      <th>IMAGE_NAME</th>\n",
       "      <th>1</th>\n",
       "      <th>2</th>\n",
       "      <th>3</th>\n",
       "      <th>4</th>\n",
       "      <th>5</th>\n",
       "      <th>6</th>\n",
       "      <th>7</th>\n",
       "      <th>8</th>\n",
       "      <th>9</th>\n",
       "      <th>...</th>\n",
       "      <th>25</th>\n",
       "      <th>26</th>\n",
       "      <th>27</th>\n",
       "      <th>28</th>\n",
       "      <th>31</th>\n",
       "      <th>32</th>\n",
       "      <th>33</th>\n",
       "      <th>34</th>\n",
       "      <th>35</th>\n",
       "      <th>36</th>\n",
       "    </tr>\n",
       "  </thead>\n",
       "  <tbody>\n",
       "    <tr>\n",
       "      <th>0</th>\n",
       "      <td>poor_frodo</td>\n",
       "      <td>(711.7129516601562, 494.0753173828125)</td>\n",
       "      <td>(881.945556640625, 496.9984130859375)</td>\n",
       "      <td>(657.7088623046875, 454.04876708984375)</td>\n",
       "      <td>(751.9884643554688, 450.1510925292969)</td>\n",
       "      <td>(838.1832885742188, 448.7408447265625)</td>\n",
       "      <td>(935.7223510742188, 456.4249572753906)</td>\n",
       "      <td>(793.9056396484375, 484.17279052734375)</td>\n",
       "      <td>(788.758544921875, 589.001708984375)</td>\n",
       "      <td>(794.0109252929688, 651.6461791992188)</td>\n",
       "      <td>...</td>\n",
       "      <td>(705.096435546875, 437.93377685546875)</td>\n",
       "      <td>(887.2174072265625, 437.7728271484375)</td>\n",
       "      <td>(621.1411743164062, 527.2894897460938)</td>\n",
       "      <td>(987.5260620117188, 544.8671875)</td>\n",
       "      <td>(792.5225830078125, 445.4039306640625)</td>\n",
       "      <td>(801.09765625, 774.556640625)</td>\n",
       "      <td>(663.28369140625, 679.8106689453125)</td>\n",
       "      <td>(947.96484375, 700.3831176757812)</td>\n",
       "      <td>(680.7007446289062, 605.7356567382812)</td>\n",
       "      <td>(910.029541015625, 610.579833984375)</td>\n",
       "    </tr>\n",
       "  </tbody>\n",
       "</table>\n",
       "<p>1 rows × 35 columns</p>\n",
       "</div>"
      ],
      "text/plain": [
       "   IMAGE_NAME                                       1  \\\n",
       "0  poor_frodo  (711.7129516601562, 494.0753173828125)   \n",
       "\n",
       "                                       2  \\\n",
       "0  (881.945556640625, 496.9984130859375)   \n",
       "\n",
       "                                         3  \\\n",
       "0  (657.7088623046875, 454.04876708984375)   \n",
       "\n",
       "                                        4  \\\n",
       "0  (751.9884643554688, 450.1510925292969)   \n",
       "\n",
       "                                        5  \\\n",
       "0  (838.1832885742188, 448.7408447265625)   \n",
       "\n",
       "                                        6  \\\n",
       "0  (935.7223510742188, 456.4249572753906)   \n",
       "\n",
       "                                         7  \\\n",
       "0  (793.9056396484375, 484.17279052734375)   \n",
       "\n",
       "                                      8  \\\n",
       "0  (788.758544921875, 589.001708984375)   \n",
       "\n",
       "                                        9  ...  \\\n",
       "0  (794.0109252929688, 651.6461791992188)  ...   \n",
       "\n",
       "                                       25  \\\n",
       "0  (705.096435546875, 437.93377685546875)   \n",
       "\n",
       "                                       26  \\\n",
       "0  (887.2174072265625, 437.7728271484375)   \n",
       "\n",
       "                                       27                                28  \\\n",
       "0  (621.1411743164062, 527.2894897460938)  (987.5260620117188, 544.8671875)   \n",
       "\n",
       "                                       31                             32  \\\n",
       "0  (792.5225830078125, 445.4039306640625)  (801.09765625, 774.556640625)   \n",
       "\n",
       "                                     33                                 34  \\\n",
       "0  (663.28369140625, 679.8106689453125)  (947.96484375, 700.3831176757812)   \n",
       "\n",
       "                                       35  \\\n",
       "0  (680.7007446289062, 605.7356567382812)   \n",
       "\n",
       "                                     36  \n",
       "0  (910.029541015625, 610.579833984375)  \n",
       "\n",
       "[1 rows x 35 columns]"
      ]
     },
     "execution_count": 18,
     "metadata": {},
     "output_type": "execute_result"
    }
   ],
   "source": [
    "# obtain the information as a pandas DataFrame\n",
    "df_land  =gvision.to_df('face landmarks','poor_frodo')\n",
    "df_land"
   ]
  },
  {
   "cell_type": "code",
   "execution_count": null,
   "metadata": {},
   "outputs": [],
   "source": []
  }
 ],
 "metadata": {
  "kernelspec": {
   "display_name": "Python 3",
   "language": "python",
   "name": "python3"
  },
  "language_info": {
   "codemirror_mode": {
    "name": "ipython",
    "version": 3
   },
   "file_extension": ".py",
   "mimetype": "text/x-python",
   "name": "python",
   "nbconvert_exporter": "python",
   "pygments_lexer": "ipython3",
   "version": "3.8.3"
  }
 },
 "nbformat": 4,
 "nbformat_minor": 4
}
